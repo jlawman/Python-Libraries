{
 "cells": [
  {
   "cell_type": "code",
   "execution_count": 96,
   "metadata": {
    "collapsed": true
   },
   "outputs": [],
   "source": [
    "from scipy import stats\n",
    "import numpy as np"
   ]
  },
  {
   "cell_type": "code",
   "execution_count": 97,
   "metadata": {
    "collapsed": true
   },
   "outputs": [],
   "source": [
    "x=np.array([-40, 1, 1.2, 1.4, 1.8,2,3,3.5,3.8, 3.9, 4,10,-3,10,100])"
   ]
  },
  {
   "cell_type": "markdown",
   "metadata": {},
   "source": [
    "### Standard Deviation\n",
    "\n",
    "A way to determine how \"unusual\" an element is - i.e. how far is it from the mean.\n",
    "\n",
    "$\\sigma= \\sqrt{\\dfrac{\\sum_{i=1}^{n}(x-\\bar{x})}{n}}$\n",
    "\n",
    "For samples:\n",
    "\n",
    "$s= \\sqrt{\\dfrac{\\sum_{i=1}^{n}(x-\\bar{x})}{n-1}}$"
   ]
  },
  {
   "cell_type": "code",
   "execution_count": 86,
   "metadata": {},
   "outputs": [
    {
     "data": {
      "text/plain": [
       "28.266279759256815"
      ]
     },
     "execution_count": 86,
     "metadata": {},
     "output_type": "execute_result"
    }
   ],
   "source": [
    "stats.tstd(x) #Trimmed standard deviation corrected by n/(n-1) factor"
   ]
  },
  {
   "cell_type": "code",
   "execution_count": 90,
   "metadata": {},
   "outputs": [
    {
     "data": {
      "text/plain": [
       "3.0933947224838461"
      ]
     },
     "execution_count": 90,
     "metadata": {},
     "output_type": "execute_result"
    }
   ],
   "source": [
    "stats.tstd(x, (0,10)) #Trimmed standard deviation corrected by n/(n-1) factor and bound my the limits 0,10."
   ]
  },
  {
   "cell_type": "code",
   "execution_count": 98,
   "metadata": {},
   "outputs": [
    {
     "data": {
      "text/plain": [
       "27.307820613638626"
      ]
     },
     "execution_count": 98,
     "metadata": {},
     "output_type": "execute_result"
    }
   ],
   "source": [
    "np.std(x, axis=0)"
   ]
  },
  {
   "cell_type": "markdown",
   "metadata": {},
   "source": [
    "## Z-score \n",
    "\n",
    "A way to determine how many standard deviations each element is from the mean.\n",
    "\n",
    "#### $z = \\dfrac{x - μ}{ σ}$"
   ]
  },
  {
   "cell_type": "code",
   "execution_count": 92,
   "metadata": {},
   "outputs": [
    {
     "data": {
      "text/plain": [
       "array([-1.71525955, -0.21385815, -0.20653424, -0.19921033, -0.18456251,\n",
       "       -0.1772386 , -0.14061906, -0.12230928, -0.11132342, -0.10766147,\n",
       "       -0.10399951,  0.11571777, -0.36033634,  0.11571777,  3.41147693])"
      ]
     },
     "execution_count": 92,
     "metadata": {},
     "output_type": "execute_result"
    }
   ],
   "source": [
    "stats.zscore(x)"
   ]
  },
  {
   "cell_type": "code",
   "execution_count": 99,
   "metadata": {},
   "outputs": [
    {
     "data": {
      "text/plain": [
       "array([ 100.])"
      ]
     },
     "execution_count": 99,
     "metadata": {},
     "output_type": "execute_result"
    }
   ],
   "source": [
    "x[np.where(abs(stats.zscore(x)>3))]  #Find outliers"
   ]
  },
  {
   "cell_type": "code",
   "execution_count": 100,
   "metadata": {},
   "outputs": [
    {
     "data": {
      "text/plain": [
       "array([-40. ,   1. ,   1.2,   1.4,   1.8,   2. ,   3. ,   3.5,   3.8,\n",
       "         3.9,   4. ,  10. ,  -3. ,  10. ])"
      ]
     },
     "execution_count": 100,
     "metadata": {},
     "output_type": "execute_result"
    }
   ],
   "source": [
    "x[np.where(abs(stats.zscore(x)<3))] #Find all values within 3 standard deviations (usually middle 99%)"
   ]
  },
  {
   "cell_type": "code",
   "execution_count": 101,
   "metadata": {},
   "outputs": [
    {
     "data": {
      "text/plain": [
       "array([  1. ,   1.2,   1.4,   1.8,   2. ,   3. ,   3.5,   3.8,   3.9,\n",
       "         4. ,  10. ,  -3. ,  10. ])"
      ]
     },
     "execution_count": 101,
     "metadata": {},
     "output_type": "execute_result"
    }
   ],
   "source": [
    "x[np.where(abs(stats.zscore(x))<1)] #Find all values within 1 standard deviations (usually middle 68%)"
   ]
  },
  {
   "cell_type": "markdown",
   "metadata": {},
   "source": [
    "### Mean\n",
    "\n",
    "A way to describe the \"center\" of the data.\n",
    "\n",
    "$\\mu = \\dfrac{\\sum_{i=1}^{n}{x_i}}{n}$"
   ]
  },
  {
   "cell_type": "code",
   "execution_count": 107,
   "metadata": {},
   "outputs": [
    {
     "data": {
      "text/plain": [
       "3.2769230769230764"
      ]
     },
     "execution_count": 107,
     "metadata": {},
     "output_type": "execute_result"
    }
   ],
   "source": [
    "stats.trim_mean(x,.1) #Mean with 10% cut from the \"left\" and the \"right\" of the data set"
   ]
  },
  {
   "cell_type": "code",
   "execution_count": 108,
   "metadata": {},
   "outputs": [
    {
     "data": {
      "text/plain": [
       "6.8399999999999999"
      ]
     },
     "execution_count": 108,
     "metadata": {},
     "output_type": "execute_result"
    }
   ],
   "source": [
    "np.mean(x)  #Mean of the data set (note this equals stats.trim_mean(x,0))"
   ]
  },
  {
   "cell_type": "code",
   "execution_count": null,
   "metadata": {
    "collapsed": true
   },
   "outputs": [],
   "source": []
  }
 ],
 "metadata": {
  "kernelspec": {
   "display_name": "Python 3",
   "language": "python",
   "name": "python3"
  },
  "language_info": {
   "codemirror_mode": {
    "name": "ipython",
    "version": 3
   },
   "file_extension": ".py",
   "mimetype": "text/x-python",
   "name": "python",
   "nbconvert_exporter": "python",
   "pygments_lexer": "ipython3",
   "version": "3.6.0"
  }
 },
 "nbformat": 4,
 "nbformat_minor": 2
}
